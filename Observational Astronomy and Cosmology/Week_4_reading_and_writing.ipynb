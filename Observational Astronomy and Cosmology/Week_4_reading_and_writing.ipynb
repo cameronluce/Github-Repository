{
 "cells": [
  {
   "cell_type": "code",
   "execution_count": 1,
   "metadata": {
    "executionInfo": {
     "elapsed": 1028,
     "status": "ok",
     "timestamp": 1663845895999,
     "user": {
      "displayName": "Becky Canning",
      "userId": "17585554670383182468"
     },
     "user_tz": -60
    },
    "id": "p1p1tOgVFJGT"
   },
   "outputs": [],
   "source": [
    "# we will always import these packages at the top of our code\n",
    "# magic code which let's us see graphs 'inline' in the notebook\n",
    "%matplotlib inline \n",
    "import numpy as np # numpy helps us do maths\n",
    "import pandas as pd # pandas helps us load files and databases - think of it as a much better excel spreadsheet\n",
    "import matplotlib.pyplot as plt # matplotlib helps us plot\n",
    "from astropy.cosmology import Planck15 as cosmo # helps us do cosmology"
   ]
  },
  {
   "cell_type": "markdown",
   "metadata": {
    "id": "N0vYv6LWFKB8"
   },
   "source": [
    "# Reading and writing using numpy and pandas"
   ]
  },
  {
   "cell_type": "markdown",
   "metadata": {
    "id": "4EjRh6YAFV1g"
   },
   "source": [
    "In this notebook we will very simply create, write and read a text file in numpy and in pandas. \n",
    "\n",
    "There is no practice question on this topic."
   ]
  },
  {
   "cell_type": "markdown",
   "metadata": {
    "id": "8XcViINyHejS"
   },
   "source": [
    "### Numpy savetxt and loadtxt"
   ]
  },
  {
   "cell_type": "code",
   "execution_count": 2,
   "metadata": {
    "executionInfo": {
     "elapsed": 4,
     "status": "ok",
     "timestamp": 1663846005807,
     "user": {
      "displayName": "Becky Canning",
      "userId": "17585554670383182468"
     },
     "user_tz": -60
    },
    "id": "n_o6ip4YFOGf"
   },
   "outputs": [],
   "source": [
    "# making some data for us to write out\n",
    "array_x=np.array([0,1,2,3])\n",
    "array_y=np.array([0,1,4,9])"
   ]
  },
  {
   "cell_type": "markdown",
   "metadata": {
    "id": "TsIYSVFl9jbV"
   },
   "source": [
    "Let's just examine quickly how we might 'print out' this data - we can do it in rows or columns"
   ]
  },
  {
   "cell_type": "code",
   "execution_count": 10,
   "metadata": {
    "colab": {
     "base_uri": "https://localhost:8080/"
    },
    "executionInfo": {
     "elapsed": 235,
     "status": "ok",
     "timestamp": 1663846231526,
     "user": {
      "displayName": "Becky Canning",
      "userId": "17585554670383182468"
     },
     "user_tz": -60
    },
    "id": "u1XuylpI9WQx",
    "outputId": "70c2dbcd-9db7-4ccd-eb0d-8e2037e30217"
   },
   "outputs": [
    {
     "name": "stdout",
     "output_type": "stream",
     "text": [
      "[0 1 2 3] [0 1 4 9]\n"
     ]
    }
   ],
   "source": [
    "print(array_x, array_y)"
   ]
  },
  {
   "cell_type": "code",
   "execution_count": 11,
   "metadata": {
    "colab": {
     "base_uri": "https://localhost:8080/"
    },
    "executionInfo": {
     "elapsed": 4,
     "status": "ok",
     "timestamp": 1663846232343,
     "user": {
      "displayName": "Becky Canning",
      "userId": "17585554670383182468"
     },
     "user_tz": -60
    },
    "id": "tdcOMHj39Z8W",
    "outputId": "0eae8c9a-e32f-45bf-c4aa-c7f70480b44a"
   },
   "outputs": [
    {
     "name": "stdout",
     "output_type": "stream",
     "text": [
      "[[0 0]\n",
      " [1 1]\n",
      " [2 4]\n",
      " [3 9]]\n"
     ]
    }
   ],
   "source": [
    "print(np.c_[array_x, array_y])"
   ]
  },
  {
   "cell_type": "code",
   "execution_count": 13,
   "metadata": {
    "executionInfo": {
     "elapsed": 203,
     "status": "ok",
     "timestamp": 1663846299655,
     "user": {
      "displayName": "Becky Canning",
      "userId": "17585554670383182468"
     },
     "user_tz": -60
    },
    "id": "1rG-h_iqHjXJ"
   },
   "outputs": [],
   "source": [
    "# write the file use numpy savetxt we'll do this in two ways - go to your drive where this notbook is running (on your laptop, sciserver or google colab) open the file and look at the format of the output ( np.c_[] gives columns of data)\n",
    "np.savetxt('my_file1.txt', [array_x, array_y])\n",
    "np.savetxt('my_file2.txt', np.c_[array_x, array_y])"
   ]
  },
  {
   "cell_type": "code",
   "execution_count": 14,
   "metadata": {
    "colab": {
     "base_uri": "https://localhost:8080/"
    },
    "executionInfo": {
     "elapsed": 239,
     "status": "ok",
     "timestamp": 1663846405613,
     "user": {
      "displayName": "Becky Canning",
      "userId": "17585554670383182468"
     },
     "user_tz": -60
    },
    "id": "SFJmmKUR-C9Z",
    "outputId": "c23ba194-a446-4681-c8e2-179088d48632"
   },
   "outputs": [
    {
     "name": "stdout",
     "output_type": "stream",
     "text": [
      "[[0. 0.]\n",
      " [1. 1.]\n",
      " [2. 4.]\n",
      " [3. 9.]]\n"
     ]
    }
   ],
   "source": [
    "# we usually want the column data as it is easier to use - let's read it in\n",
    "matrix=np.loadtxt('my_file2.txt')\n",
    "print(matrix)"
   ]
  },
  {
   "cell_type": "code",
   "execution_count": 15,
   "metadata": {
    "colab": {
     "base_uri": "https://localhost:8080/"
    },
    "executionInfo": {
     "elapsed": 4,
     "status": "ok",
     "timestamp": 1663846445924,
     "user": {
      "displayName": "Becky Canning",
      "userId": "17585554670383182468"
     },
     "user_tz": -60
    },
    "id": "LLMoCB2q-WOu",
    "outputId": "f6496cfd-7990-48f8-e7d7-1c976dc90f88"
   },
   "outputs": [
    {
     "name": "stdout",
     "output_type": "stream",
     "text": [
      "[0. 1. 2. 3.]\n",
      "[0. 1. 4. 9.]\n"
     ]
    }
   ],
   "source": [
    "# but we can also 'unpack' the data into separate columns immediately\n",
    "x, y=np.loadtxt('my_file2.txt', unpack=True)\n",
    "print(x)\n",
    "print(y)"
   ]
  },
  {
   "cell_type": "markdown",
   "metadata": {
    "id": "ZUOJAN0q-gmv"
   },
   "source": [
    "## Pandas read_csv and to_csv"
   ]
  },
  {
   "cell_type": "markdown",
   "metadata": {
    "id": "T2AT9kCg_A64"
   },
   "source": [
    "pandas is a package which is helpful for when we are using 'database' or 'spreadsheet' style data. Think of it like a much much much better excel or google sheets!"
   ]
  },
  {
   "cell_type": "code",
   "execution_count": 34,
   "metadata": {
    "executionInfo": {
     "elapsed": 298,
     "status": "ok",
     "timestamp": 1663847003069,
     "user": {
      "displayName": "Becky Canning",
      "userId": "17585554670383182468"
     },
     "user_tz": -60
    },
    "id": "w_21-ysl-mfR"
   },
   "outputs": [],
   "source": [
    "data = pd.read_csv('my_file2.txt', sep=' ', names=(['x','y']), usecols=[0, 1], index_col=False)"
   ]
  },
  {
   "cell_type": "code",
   "execution_count": 35,
   "metadata": {
    "colab": {
     "base_uri": "https://localhost:8080/",
     "height": 173
    },
    "executionInfo": {
     "elapsed": 15,
     "status": "ok",
     "timestamp": 1663847005634,
     "user": {
      "displayName": "Becky Canning",
      "userId": "17585554670383182468"
     },
     "user_tz": -60
    },
    "id": "fiR8cM6g_ZfK",
    "outputId": "226803f9-ecf4-43f7-c43d-6f6af2624a6d"
   },
   "outputs": [
    {
     "data": {
      "text/html": [
       "\n",
       "  <div id=\"df-0f3a172d-d588-4ebe-a7e8-dc83a4dc3ccc\">\n",
       "    <div class=\"colab-df-container\">\n",
       "      <div>\n",
       "<style scoped>\n",
       "    .dataframe tbody tr th:only-of-type {\n",
       "        vertical-align: middle;\n",
       "    }\n",
       "\n",
       "    .dataframe tbody tr th {\n",
       "        vertical-align: top;\n",
       "    }\n",
       "\n",
       "    .dataframe thead th {\n",
       "        text-align: right;\n",
       "    }\n",
       "</style>\n",
       "<table border=\"1\" class=\"dataframe\">\n",
       "  <thead>\n",
       "    <tr style=\"text-align: right;\">\n",
       "      <th></th>\n",
       "      <th>x</th>\n",
       "      <th>y</th>\n",
       "    </tr>\n",
       "  </thead>\n",
       "  <tbody>\n",
       "    <tr>\n",
       "      <th>0</th>\n",
       "      <td>0.0</td>\n",
       "      <td>0.0</td>\n",
       "    </tr>\n",
       "    <tr>\n",
       "      <th>1</th>\n",
       "      <td>1.0</td>\n",
       "      <td>1.0</td>\n",
       "    </tr>\n",
       "    <tr>\n",
       "      <th>2</th>\n",
       "      <td>2.0</td>\n",
       "      <td>4.0</td>\n",
       "    </tr>\n",
       "    <tr>\n",
       "      <th>3</th>\n",
       "      <td>3.0</td>\n",
       "      <td>9.0</td>\n",
       "    </tr>\n",
       "  </tbody>\n",
       "</table>\n",
       "</div>\n",
       "      <button class=\"colab-df-convert\" onclick=\"convertToInteractive('df-0f3a172d-d588-4ebe-a7e8-dc83a4dc3ccc')\"\n",
       "              title=\"Convert this dataframe to an interactive table.\"\n",
       "              style=\"display:none;\">\n",
       "        \n",
       "  <svg xmlns=\"http://www.w3.org/2000/svg\" height=\"24px\"viewBox=\"0 0 24 24\"\n",
       "       width=\"24px\">\n",
       "    <path d=\"M0 0h24v24H0V0z\" fill=\"none\"/>\n",
       "    <path d=\"M18.56 5.44l.94 2.06.94-2.06 2.06-.94-2.06-.94-.94-2.06-.94 2.06-2.06.94zm-11 1L8.5 8.5l.94-2.06 2.06-.94-2.06-.94L8.5 2.5l-.94 2.06-2.06.94zm10 10l.94 2.06.94-2.06 2.06-.94-2.06-.94-.94-2.06-.94 2.06-2.06.94z\"/><path d=\"M17.41 7.96l-1.37-1.37c-.4-.4-.92-.59-1.43-.59-.52 0-1.04.2-1.43.59L10.3 9.45l-7.72 7.72c-.78.78-.78 2.05 0 2.83L4 21.41c.39.39.9.59 1.41.59.51 0 1.02-.2 1.41-.59l7.78-7.78 2.81-2.81c.8-.78.8-2.07 0-2.86zM5.41 20L4 18.59l7.72-7.72 1.47 1.35L5.41 20z\"/>\n",
       "  </svg>\n",
       "      </button>\n",
       "      \n",
       "  <style>\n",
       "    .colab-df-container {\n",
       "      display:flex;\n",
       "      flex-wrap:wrap;\n",
       "      gap: 12px;\n",
       "    }\n",
       "\n",
       "    .colab-df-convert {\n",
       "      background-color: #E8F0FE;\n",
       "      border: none;\n",
       "      border-radius: 50%;\n",
       "      cursor: pointer;\n",
       "      display: none;\n",
       "      fill: #1967D2;\n",
       "      height: 32px;\n",
       "      padding: 0 0 0 0;\n",
       "      width: 32px;\n",
       "    }\n",
       "\n",
       "    .colab-df-convert:hover {\n",
       "      background-color: #E2EBFA;\n",
       "      box-shadow: 0px 1px 2px rgba(60, 64, 67, 0.3), 0px 1px 3px 1px rgba(60, 64, 67, 0.15);\n",
       "      fill: #174EA6;\n",
       "    }\n",
       "\n",
       "    [theme=dark] .colab-df-convert {\n",
       "      background-color: #3B4455;\n",
       "      fill: #D2E3FC;\n",
       "    }\n",
       "\n",
       "    [theme=dark] .colab-df-convert:hover {\n",
       "      background-color: #434B5C;\n",
       "      box-shadow: 0px 1px 3px 1px rgba(0, 0, 0, 0.15);\n",
       "      filter: drop-shadow(0px 1px 2px rgba(0, 0, 0, 0.3));\n",
       "      fill: #FFFFFF;\n",
       "    }\n",
       "  </style>\n",
       "\n",
       "      <script>\n",
       "        const buttonEl =\n",
       "          document.querySelector('#df-0f3a172d-d588-4ebe-a7e8-dc83a4dc3ccc button.colab-df-convert');\n",
       "        buttonEl.style.display =\n",
       "          google.colab.kernel.accessAllowed ? 'block' : 'none';\n",
       "\n",
       "        async function convertToInteractive(key) {\n",
       "          const element = document.querySelector('#df-0f3a172d-d588-4ebe-a7e8-dc83a4dc3ccc');\n",
       "          const dataTable =\n",
       "            await google.colab.kernel.invokeFunction('convertToInteractive',\n",
       "                                                     [key], {});\n",
       "          if (!dataTable) return;\n",
       "\n",
       "          const docLinkHtml = 'Like what you see? Visit the ' +\n",
       "            '<a target=\"_blank\" href=https://colab.research.google.com/notebooks/data_table.ipynb>data table notebook</a>'\n",
       "            + ' to learn more about interactive tables.';\n",
       "          element.innerHTML = '';\n",
       "          dataTable['output_type'] = 'display_data';\n",
       "          await google.colab.output.renderOutput(dataTable, element);\n",
       "          const docLink = document.createElement('div');\n",
       "          docLink.innerHTML = docLinkHtml;\n",
       "          element.appendChild(docLink);\n",
       "        }\n",
       "      </script>\n",
       "    </div>\n",
       "  </div>\n",
       "  "
      ],
      "text/plain": [
       "     x    y\n",
       "0  0.0  0.0\n",
       "1  1.0  1.0\n",
       "2  2.0  4.0\n",
       "3  3.0  9.0"
      ]
     },
     "execution_count": 35,
     "metadata": {},
     "output_type": "execute_result"
    }
   ],
   "source": [
    "# lets look at how pandas displays data\n",
    "data"
   ]
  },
  {
   "cell_type": "markdown",
   "metadata": {
    "id": "QFP8qMk0_m42"
   },
   "source": [
    "pandas can easily handle names on the tops of columns already written into the files - they will appear at the top of these dataframes and then we wouldn't need to specify names=. Also note that the default separation between values is expected to be comma separated so we need to define what the delimiter is using sep=' ' if we have something else like white space. See the help docs here: https://pandas.pydata.org/docs/reference/api/pandas.read_csv.html  "
   ]
  },
  {
   "cell_type": "code",
   "execution_count": 38,
   "metadata": {
    "executionInfo": {
     "elapsed": 204,
     "status": "ok",
     "timestamp": 1663847215740,
     "user": {
      "displayName": "Becky Canning",
      "userId": "17585554670383182468"
     },
     "user_tz": -60
    },
    "id": "g5F9MchC_jnF"
   },
   "outputs": [],
   "source": [
    "# let's write the data back out as a csv file\n",
    "data.to_csv('my_file2.csv')"
   ]
  }
 ],
 "metadata": {
  "colab": {
   "authorship_tag": "ABX9TyOdREvvm2vUL2UeR9BFD6f5",
   "collapsed_sections": [],
   "provenance": []
  },
  "kernelspec": {
   "display_name": "Python 3",
   "name": "python3"
  },
  "language_info": {
   "codemirror_mode": {
    "name": "ipython",
    "version": 3
   },
   "file_extension": ".py",
   "mimetype": "text/x-python",
   "name": "python",
   "nbconvert_exporter": "python",
   "pygments_lexer": "ipython3",
   "version": "3.12.1"
  }
 },
 "nbformat": 4,
 "nbformat_minor": 0
}
