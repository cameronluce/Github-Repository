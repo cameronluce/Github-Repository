{
 "cells": [
  {
   "cell_type": "markdown",
   "metadata": {},
   "source": [
    "# Basic C - becoming familiar\n",
    "\n",
    "Below we have our first 'Hello world' C script. We will use this to investigate what can go wrong in C! This will get us familiar with the structure and notation of the code and help with debugging. \n",
    "\n",
    "In particular we'll think about:\n",
    "* What is this stdio.h thing?\n",
    "* Whitespace\n",
    "* The main function (and all functions)\n",
    "* Semicolons;;;;!\n",
    "* Case sensitivity\n",
    "* Double quotes\n",
    "* The return 0 function\n",
    "* printf statements\n",
    "\n",
    "the comment sign in C is //\n",
    "\n",
    "multi-line comments start like this /* and end like this */"
   ]
  },
  {
   "cell_type": "code",
   "execution_count": null,
   "metadata": {},
   "outputs": [
    {
     "name": "stdout",
     "output_type": "stream",
     "text": [
      "Hello World!"
     ]
    }
   ],
   "source": [
    "#include <stdio.h>\n",
    "\n",
    "int main() {\n",
    "  // I am a comment!\n",
    "  /* I\n",
    "  am\n",
    "  a\n",
    "  multi-line\n",
    "  comments */\n",
    "  printf(\"Hello World!\");\n",
    "  return 0;\n",
    "}"
   ]
  },
  {
   "cell_type": "markdown",
   "metadata": {},
   "source": [
    "Let's start with this stdio.h thing. Does it work without it? Try below."
   ]
  },
  {
   "cell_type": "code",
   "execution_count": null,
   "metadata": {},
   "outputs": [],
   "source": [
    "int main() {\n",
    "  // I am a comment!\n",
    "  /* I\n",
    "  am\n",
    "  a\n",
    "  multi-line\n",
    "  comments */\n",
    "  printf(\"Hello World!\");\n",
    "  return 0;\n",
    "}"
   ]
  },
  {
   "cell_type": "markdown",
   "metadata": {},
   "source": [
    "stdio.h is a very basic C library which allows us to input and output things and is essentially always needed."
   ]
  },
  {
   "cell_type": "markdown",
   "metadata": {},
   "source": [
    "Now how does C deal with whitespace - either through indentations, space bar, tab, or leaving a full line of whitespace? Try it and see what happens. "
   ]
  },
  {
   "cell_type": "code",
   "execution_count": null,
   "metadata": {},
   "outputs": [],
   "source": []
  },
  {
   "cell_type": "markdown",
   "metadata": {},
   "source": [
    "It is always good practice to use indentation even if it is not explicitly needed in the code - it helps to debug.\n",
    "\n",
    "What about main() what happens if you leave this out? What about the curly braces?"
   ]
  },
  {
   "cell_type": "code",
   "execution_count": null,
   "metadata": {},
   "outputs": [],
   "source": []
  },
  {
   "cell_type": "markdown",
   "metadata": {},
   "source": [
    "Try to remove the semi-colon at the end of the 'printf' statement. What happens?"
   ]
  },
  {
   "cell_type": "code",
   "execution_count": null,
   "metadata": {},
   "outputs": [],
   "source": []
  },
  {
   "cell_type": "markdown",
   "metadata": {},
   "source": [
    "What about this version of the code below - what can you infer about the semicolon usage?"
   ]
  },
  {
   "cell_type": "code",
   "execution_count": null,
   "metadata": {},
   "outputs": [],
   "source": [
    "#include <stdio.h>\n",
    "\n",
    "int main() {\n",
    "  printf(\"Hello World!\"); return 0;\n",
    "}"
   ]
  },
  {
   "cell_type": "code",
   "execution_count": null,
   "metadata": {},
   "outputs": [],
   "source": []
  },
  {
   "cell_type": "markdown",
   "metadata": {},
   "source": [
    "What is wrong in this code and why?"
   ]
  },
  {
   "cell_type": "code",
   "execution_count": null,
   "metadata": {},
   "outputs": [],
   "source": [
    "#include <stdio.h>\n",
    "\n",
    "int Main() {\n",
    "  // I am a comment!\n",
    "  Printf(\"Hello World!\");\n",
    "  Return 0;\n",
    "}"
   ]
  },
  {
   "cell_type": "markdown",
   "metadata": {},
   "source": [
    "What about this code?"
   ]
  },
  {
   "cell_type": "code",
   "execution_count": null,
   "metadata": {},
   "outputs": [],
   "source": [
    "#include <stdio.h>\n",
    "\n",
    "int main() {\n",
    "  // I am a comment!\n",
    "  printf('Hello World!');\n",
    "  return 0;\n",
    "}"
   ]
  },
  {
   "cell_type": "markdown",
   "metadata": {},
   "source": [
    "Finally let's think about the return function. Try taking it out and seing what the difference is."
   ]
  },
  {
   "cell_type": "code",
   "execution_count": null,
   "metadata": {},
   "outputs": [],
   "source": []
  },
  {
   "cell_type": "markdown",
   "metadata": {},
   "source": [
    "The return function essentially provides the 'exit code' to your 'main' function. C and C++ use this although in C++ the compiler can add this automatically, but it is still good practice to include it yourself. \n",
    "\n",
    "In one of the basic C libraries the exit stsua is defined like this:\n",
    "\n",
    "#define EXIT_SUCCESS    0\n",
    "\n",
    "#define EXIT_FAILURE    1\n",
    "\n",
    "Try adding a return 1; instead."
   ]
  },
  {
   "cell_type": "code",
   "execution_count": null,
   "metadata": {},
   "outputs": [],
   "source": []
  },
  {
   "cell_type": "markdown",
   "metadata": {},
   "source": [
    "What 'type' is the function 'main'?"
   ]
  },
  {
   "cell_type": "code",
   "execution_count": null,
   "metadata": {},
   "outputs": [],
   "source": []
  },
  {
   "cell_type": "markdown",
   "metadata": {},
   "source": [
    "Printing thigns is always you friend when debugging so what about the printf statements in C - how do you make these readable? Look at these codes below what is the diffference? "
   ]
  },
  {
   "cell_type": "code",
   "execution_count": null,
   "metadata": {},
   "outputs": [],
   "source": [
    "#include <stdio.h>\n",
    "\n",
    "int main() {\n",
    "  // I am a comment!\n",
    "  printf(\"Hello World!\");\n",
    "  printf(\"Hello Again!\");\n",
    "  return 0;\n",
    "}"
   ]
  },
  {
   "cell_type": "code",
   "execution_count": null,
   "metadata": {},
   "outputs": [],
   "source": [
    "#include <stdio.h>\n",
    "\n",
    "int main() {\n",
    "  // I am a comment!\n",
    "  printf(\"Hello World!\\n\");\n",
    "  printf(\"Hello Again!\");\n",
    "  return 0;\n",
    "}"
   ]
  },
  {
   "cell_type": "code",
   "execution_count": null,
   "metadata": {},
   "outputs": [],
   "source": [
    "#include <stdio.h>\n",
    "\n",
    "int main() {\n",
    "  // I am a comment!\n",
    "  printf(\"Hello World!\\nHello Again!\");\n",
    "  return 0;\n",
    "}"
   ]
  },
  {
   "cell_type": "code",
   "execution_count": null,
   "metadata": {},
   "outputs": [],
   "source": [
    "#include <stdio.h>\n",
    "\n",
    "int main() {\n",
    "  // I am a comment!\n",
    "  printf(\"Hello World!\\n\\nHello Again!\");\n",
    "  return 0;\n",
    "}"
   ]
  },
  {
   "cell_type": "code",
   "execution_count": null,
   "metadata": {},
   "outputs": [],
   "source": [
    "#include <stdio.h>\n",
    "\n",
    "int main() {\n",
    "  // I am a comment!\n",
    "  printf(\"Hello World!\\\\Hello Again!\");\n",
    "  return 0;\n",
    "}"
   ]
  },
  {
   "cell_type": "code",
   "execution_count": null,
   "metadata": {},
   "outputs": [],
   "source": [
    "#include <stdio.h>\n",
    "\n",
    "int main() {\n",
    "  // I am a comment!\n",
    "  printf(\"Hello World!\\\"Hello Again!\");\n",
    "  return 0;\n",
    "}"
   ]
  },
  {
   "cell_type": "markdown",
   "metadata": {},
   "source": [
    "How would you get a horizontal 'tab' space? Take a guess."
   ]
  },
  {
   "cell_type": "code",
   "execution_count": null,
   "metadata": {},
   "outputs": [],
   "source": []
  },
  {
   "cell_type": "markdown",
   "metadata": {},
   "source": [
    "What if we wanted to modify what has been writting in this \"hello world\" string. We could store the string in a varible and modify it there.\n",
    "\n",
    "We'll be looking at indexing and quotes etc later but what do you notice about this code below?"
   ]
  },
  {
   "cell_type": "code",
   "execution_count": null,
   "metadata": {},
   "outputs": [],
   "source": [
    "#include <stdio.h>\n",
    "\n",
    "int main() {\n",
    "  // I am a comment!\n",
    "  char myGreeting[] = \"Hello World!\";\n",
    "  myGreeting[0] = 'J';\n",
    "  myGreeting[6] = 'M';\n",
    "  myGreeting[8] = 'u';\n",
    "  printf(\"%s\", myGreeting);\n",
    "  return 0;\n",
    "}\n"
   ]
  },
  {
   "cell_type": "code",
   "execution_count": null,
   "metadata": {},
   "outputs": [],
   "source": []
  }
 ],
 "metadata": {
  "kernelspec": {
   "display_name": "C",
   "language": "c",
   "name": "c"
  },
  "language_info": {
   "file_extension": ".c",
   "mimetype": "text/plain",
   "name": "c"
  }
 },
 "nbformat": 4,
 "nbformat_minor": 4
}
