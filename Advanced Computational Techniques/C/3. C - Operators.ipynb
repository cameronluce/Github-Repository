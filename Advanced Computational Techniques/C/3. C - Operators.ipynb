{
 "cells": [
  {
   "cell_type": "markdown",
   "metadata": {},
   "source": [
    "# C - Operators\n",
    "\n",
    "In this notebook we'll be looking at operators and how they work - this should be relatively familiar from other coding languages. \n",
    "\n",
    "There are arithmetic, assigment, comparison and logic operators and of course the sizeof operator which we have seen before."
   ]
  },
  {
   "cell_type": "markdown",
   "metadata": {},
   "source": [
    "## Arithmetic operators\n",
    "\n",
    "* +\n",
    "* -\n",
    "* /\n",
    "* *\n",
    "\n",
    "* %\n",
    "* ++\n",
    "* --\n"
   ]
  },
  {
   "cell_type": "markdown",
   "metadata": {},
   "source": [
    "Q1: x = 1.2 and y = 1.3 write out a code which prints the sum (x+y), subtraction (x-y), division (x/y) and multiplication (x*y) with 1 decimal place only."
   ]
  },
  {
   "cell_type": "code",
   "execution_count": null,
   "metadata": {},
   "outputs": [],
   "source": [
    "#include <stdio.h>\n",
    "\n",
    "int main() {\n",
    "\n",
    "\n",
    "  return 0;\n",
    "\n",
    "}"
   ]
  },
  {
   "cell_type": "markdown",
   "metadata": {},
   "source": [
    "Q2: x = 6 and y = 2 are integers. Write out a code which prints the division (x/y) as a float and the division remainder as an integer. "
   ]
  },
  {
   "cell_type": "code",
   "execution_count": null,
   "metadata": {},
   "outputs": [],
   "source": []
  },
  {
   "cell_type": "markdown",
   "metadata": {},
   "source": [
    "Q3: If x and y are defined as floats what happens? Why?"
   ]
  },
  {
   "cell_type": "code",
   "execution_count": null,
   "metadata": {},
   "outputs": [],
   "source": []
  },
  {
   "cell_type": "markdown",
   "metadata": {},
   "source": [
    "Q4: x = 10. Only defining x once, use ++ and -- to write a code which prints the value 11 and 9. Make sure to print the values on new lines."
   ]
  },
  {
   "cell_type": "code",
   "execution_count": null,
   "metadata": {},
   "outputs": [],
   "source": []
  },
  {
   "cell_type": "markdown",
   "metadata": {},
   "source": [
    "## Assignment operators\n",
    "\n",
    "* = \n",
    "* +=\n",
    "* -=\n",
    "* *=\n",
    "* /=\n",
    "* %=\n",
    "\n",
    "The below are bitwise operators which can also operate on themselves with the sign\n",
    "\n",
    "* ~ or ~=\n",
    "* & or &=\n",
    "* | or |=\n",
    "* ^ or ^=\n",
    "* \\>\\> or \\>\\>=\n",
    "* << or <<="
   ]
  },
  {
   "cell_type": "markdown",
   "metadata": {},
   "source": [
    "Q1: To find the meaning of life, assign 5 to the integer datatype x. Add 10 to it and then subtract 2, divide it by 2 and multiply it by 7, find the remainder when dividing by 43, do this using assigment operators only. "
   ]
  },
  {
   "cell_type": "code",
   "execution_count": null,
   "metadata": {},
   "outputs": [],
   "source": []
  },
  {
   "cell_type": "markdown",
   "metadata": {},
   "source": [
    "## Comparison operators\n",
    "\n",
    "* ==\n",
    "* !=\n",
    "* \\>\n",
    "* <\n",
    "* \\>=\n",
    "* <="
   ]
  },
  {
   "cell_type": "markdown",
   "metadata": {},
   "source": [
    "Q1: Make some changes in the code below and check you understand what is happening."
   ]
  },
  {
   "cell_type": "code",
   "execution_count": null,
   "metadata": {},
   "outputs": [],
   "source": [
    "#include <stdio.h>\n",
    "\n",
    "int main() {\n",
    "  int x = 5;\n",
    "  int y = 6;\n",
    "  \n",
    "  printf(\"%d\\n\", x == y); \n",
    "  /* this will return a 0 (false) because \n",
    "  5 is not equal to 6. Make it another 5\n",
    "  and lets see what it returns. */\n",
    "\n",
    "  printf(\"%d\\n\", x != y); \n",
    "  /* this will return a 1 (truth) because \n",
    "  5 is not equal to 6. Make it another 5\n",
    "  and lets see what it returns. */\n",
    "\n",
    "  printf(\"%d\\n\", x <= y); \n",
    "  /* this will return a 1 (truth) because \n",
    "  5 is less than or equal to 6. */\n",
    "\n",
    "  printf(\"%d\\n\", x > y); \n",
    "  /* this will return a 0 (false) because \n",
    "  5 is not less than 6. */\n",
    "\n",
    "return 0;\n",
    "}"
   ]
  },
  {
   "cell_type": "markdown",
   "metadata": {},
   "source": [
    "### Logical operators\n",
    "\n",
    "* &&\n",
    "* ||\n",
    "* !"
   ]
  },
  {
   "cell_type": "markdown",
   "metadata": {},
   "source": [
    "Q1: Test these operators in a simialr way as the code above. What are the range of values they return and under what conditions do they return them?"
   ]
  },
  {
   "cell_type": "code",
   "execution_count": null,
   "metadata": {},
   "outputs": [],
   "source": []
  },
  {
   "cell_type": "markdown",
   "metadata": {},
   "source": [
    "## Sizeof operator\n",
    "\n",
    "This gives us the size in bytes of the datatype. Datatypes are usually defined as 'at least this size'.\n",
    "\n",
    "1 byte is either from -127 to 127 or 0 to 255.\n",
    "\n",
    "A byte is typically defined as 8 bits.\n",
    "\n",
    "2^8 is 256. We'll look at base conversions when we think about memory."
   ]
  },
  {
   "cell_type": "code",
   "execution_count": null,
   "metadata": {},
   "outputs": [],
   "source": [
    "#include <stdio.h>\n",
    "\n",
    "int main() {\n",
    "  int myInt;\n",
    "  short myShortInt;\n",
    "  long myLongInt;\n",
    "  long long myLongerInt;\n",
    "  float myFloat;\n",
    "  double myDouble;\n",
    "  long double myLongDouble;\n",
    "  char myChar;\n",
    "  char myString[10];\n",
    "\n",
    "  printf(\"int: %lu\\n\", sizeof(myInt));\n",
    "  printf(\"short or short int: %lu\\n\", sizeof(myShortInt));\n",
    "  printf(\"long or long int %lu\\n\", sizeof(myLongInt));\n",
    "  printf(\"long long or long long int: %lu\\n\", sizeof(myLongerInt));\n",
    "  printf(\"float: %lu\\n\", sizeof(myFloat));\n",
    "  printf(\"double: %lu\\n\", sizeof(myDouble));\n",
    "  printf(\"long double: %lu\\n\", sizeof(myLongDouble));\n",
    "  printf(\"char: %lu\\n\", sizeof(myChar));\n",
    "  printf(\"string or size 10 char: %lu\\n\", sizeof(myString));\n",
    "  \n",
    "  return 0;\n",
    "}"
   ]
  },
  {
   "cell_type": "markdown",
   "metadata": {},
   "source": [
    "Look up the table for data ranges for these types of data types which we saw in lectures. Verify they all make sense."
   ]
  },
  {
   "cell_type": "code",
   "execution_count": null,
   "metadata": {},
   "outputs": [],
   "source": []
  }
 ],
 "metadata": {
  "kernelspec": {
   "display_name": "C",
   "language": "c",
   "name": "c"
  },
  "language_info": {
   "file_extension": ".c",
   "mimetype": "text/plain",
   "name": "c"
  }
 },
 "nbformat": 4,
 "nbformat_minor": 4
}
