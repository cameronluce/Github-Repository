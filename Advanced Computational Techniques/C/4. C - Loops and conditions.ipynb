{
 "cells": [
  {
   "cell_type": "markdown",
   "metadata": {},
   "source": [
    "# C - Loops and conditions\n",
    "\n",
    "Well now look into how to use loops and conditional statements. \n",
    "\n",
    "The following notebook will look at structures, functions and memory usage. Then you will have all the basic tools in your toolbox for efficient C programming. "
   ]
  },
  {
   "cell_type": "markdown",
   "metadata": {},
   "source": [
    "# Loops"
   ]
  },
  {
   "cell_type": "markdown",
   "metadata": {},
   "source": [
    "### While statement\n",
    "\n",
    "While statements take this form:\n",
    "\n",
    "    while (condition) {\n",
    "      // code block to be executed\n",
    "    }\n",
    "\n",
    "\n",
    "While can also use 'break' and 'continue' to break out of the loop or to continue to the next iteration - much like python."
   ]
  },
  {
   "cell_type": "markdown",
   "metadata": {},
   "source": [
    "Q1: Starting from the integer x=5 and while x is less than 10, print x."
   ]
  },
  {
   "cell_type": "code",
   "execution_count": null,
   "metadata": {},
   "outputs": [],
   "source": [
    "#include <stdio.h>\n",
    "\n",
    "int main() {\n",
    "\n",
    "\n",
    "\n",
    "}"
   ]
  },
  {
   "cell_type": "markdown",
   "metadata": {},
   "source": [
    "Q2: This time use continue when x=6 to skip to 7 and then use break to break at 8.  Your output should be 5, 7, 8."
   ]
  },
  {
   "cell_type": "code",
   "execution_count": null,
   "metadata": {},
   "outputs": [],
   "source": [
    "#include <stdio.h>\n",
    "\n",
    "int main() {\n",
    "\n",
    "\n",
    "}"
   ]
  },
  {
   "cell_type": "markdown",
   "metadata": {},
   "source": [
    "### Do while statement\n",
    "\n",
    "Do while statements look like this:\n",
    "\n",
    "    do {\n",
    "      // code here\n",
    "    }\n",
    "    while (condition);\n"
   ]
  },
  {
   "cell_type": "markdown",
   "metadata": {},
   "source": [
    "Q1: write out the while loop above but this time with a do/while loop. "
   ]
  },
  {
   "cell_type": "code",
   "execution_count": null,
   "metadata": {},
   "outputs": [],
   "source": [
    "#include <stdio.h>\n",
    "\n",
    "int main() {\n",
    "\n",
    "\n",
    "}"
   ]
  },
  {
   "cell_type": "markdown",
   "metadata": {},
   "source": [
    "### For loop\n",
    "\n",
    "The for loop syntax looks like this:\n",
    "\n",
    "    for (x=start; x=end; how to increment) {\n",
    "      // code here\n",
    "    }\n"
   ]
  },
  {
   "cell_type": "markdown",
   "metadata": {},
   "source": [
    "Q1: Now use a for loop to write out the same output again (x from 5 to 9). "
   ]
  },
  {
   "cell_type": "code",
   "execution_count": null,
   "metadata": {},
   "outputs": [],
   "source": [
    "#include <stdio.h>\n",
    "\n",
    "int main() {\n",
    "\n",
    "    \n",
    "}"
   ]
  },
  {
   "cell_type": "markdown",
   "metadata": {},
   "source": [
    "# Conditionals"
   ]
  },
  {
   "cell_type": "markdown",
   "metadata": {},
   "source": [
    "### If statements\n",
    "\n",
    "In C we can use if, else, else if with if statements.\n",
    "\n",
    "    if (condition1) {\n",
    "\n",
    "    // block of code to be executed if condition1 is true\n",
    "    } else if (condition2) {\n",
    "    // block of code to be executed if the condition1 is false and condition2 is true\n",
    "    } else {\n",
    "      // block of code to be executed if the condition1 is false and condition2 is false\n",
    "\n",
    "    }\n"
   ]
  },
  {
   "cell_type": "markdown",
   "metadata": {},
   "source": [
    "Q1: Write a code which compares x to y and writes out if x is less than y, if x is greater than y and if x is equal to y."
   ]
  },
  {
   "cell_type": "code",
   "execution_count": null,
   "metadata": {},
   "outputs": [],
   "source": [
    "#include <stdio.h>\n",
    "\n",
    "int main() {\n",
    "  \n",
    "    int x = 2;\n",
    "    int y = 4;\n",
    "    \n",
    "\n",
    "    \n",
    "    return 0;\n",
    "}"
   ]
  },
  {
   "cell_type": "markdown",
   "metadata": {},
   "source": [
    "If statements can have a shorthand which looks like this:\n",
    "\n",
    "    variable = (condition) ? expressionTrue : expressionFalse;\n",
    "    \n",
    "rewrite the above with < and >= conditions, using this shorthand. "
   ]
  },
  {
   "cell_type": "code",
   "execution_count": null,
   "metadata": {},
   "outputs": [],
   "source": [
    "#include <stdio.h>\n",
    "\n",
    "int main() {\n",
    "\n",
    "    int x = 2;\n",
    "    int y = 4;\n",
    "    \n",
    "\n",
    "}"
   ]
  },
  {
   "cell_type": "markdown",
   "metadata": {},
   "source": [
    "### Switch statement\n",
    "\n",
    "There is such a thing as a switch statement which can specify lots of different blocks of code to run based on specific cases - similar to an if statement in many ways but can use all sort of different conditions.\n",
    "\n",
    "    switch (expression) {\n",
    "\n",
    "    case constant1:\n",
    "      // statements\n",
    "      break;\n",
    "\n",
    "    case constant2:\n",
    "      // statements\n",
    "      break;\n",
    "    \n",
    "    default:\n",
    "      // default statements\n",
    "      \n",
    "    }\n",
    "\n",
    "\n"
   ]
  },
  {
   "cell_type": "markdown",
   "metadata": {},
   "source": [
    "Q1: write the if statement above into a switch statement."
   ]
  },
  {
   "cell_type": "code",
   "execution_count": null,
   "metadata": {},
   "outputs": [],
   "source": []
  },
  {
   "cell_type": "markdown",
   "metadata": {},
   "source": [
    "Q2: write a code which uses a switch statement to create a calculator. Hint: now the 'cases' will not be numerical but will depend on an operator."
   ]
  },
  {
   "cell_type": "code",
   "execution_count": null,
   "metadata": {},
   "outputs": [],
   "source": []
  },
  {
   "cell_type": "code",
   "execution_count": null,
   "metadata": {},
   "outputs": [],
   "source": []
  }
 ],
 "metadata": {
  "kernelspec": {
   "display_name": "C",
   "language": "c",
   "name": "c"
  },
  "language_info": {
   "file_extension": ".c",
   "mimetype": "text/plain",
   "name": "c"
  }
 },
 "nbformat": 4,
 "nbformat_minor": 4
}
