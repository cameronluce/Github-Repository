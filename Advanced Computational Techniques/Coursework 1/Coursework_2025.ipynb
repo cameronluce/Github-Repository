{
 "cells": [
  {
   "cell_type": "markdown",
   "metadata": {},
   "source": [
    "# C part - Coursework 1\n",
    "\n",
    "* Answer all questions below. \n",
    "\n",
    "* The mark breakdown is given in the text - read this carefully! Marks are split between code and comments - do not forget to comment!!! \n",
    "\n",
    "* Doing research online and chatting to each other is ABSOLUTELY ALLOWED but you MUST credit any websites (or any other help including friends etc.) that you use in your comments at the top of your programs. Failure to credit will lead to a zero on that question.\n",
    "\n",
    "* For questions that require a written component please use 'Markdown' and type your answer in the cell.\n",
    "\n",
    "* Hint 1 - when you write functions etc. it is always good practice to write a step-by-step list or pseudocode at the top of you function which explains the steps you intend your code to take. \n",
    "\n",
    "* Hint 2 - Good code is general - do your codes work for any size/shape array - would it provide useful 'error messages' to the user? \n",
    "\n",
    "* Hint 3 - You may of course ask questions to me, we will have two lessons where you can work in the class on coureswork. This may not look too difficult but IT IS NOT an EASY coursework - consider planning for questions 4 and 5 on a sheet of paper first and always try testing your code with small arrays first so things don't take forever. \n",
    "\n",
    "* Hint 4 - Do not leave it until the last moment - you will need 'doing' time and 'thinking' time for especially questions 4 and 5 so you will need several days to reflect on your approaches!\n",
    "\n",
    "* Hint 5 - Finish all the notebooks! They will help you!"
   ]
  },
  {
   "cell_type": "markdown",
   "metadata": {},
   "source": [
    "Except where explicitly stated do not import or use any library functions other than:\n",
    "\n",
    "    #include <stdio.h>\n",
    "\n",
    "and for the malloc() function for linked lists you may use:\n",
    "\n",
    "    #include <stdlib.h>\""
   ]
  },
  {
   "cell_type": "markdown",
   "metadata": {},
   "source": [
    "### C style file:\n",
    "\n",
    "1. You cannot over-comment in this coursework!\n",
    "2. Pseuodcode is required for every main program AND function - examples are below and the notebook 7. \n",
    "3. Functions should be written with split declaration at the top (before MAIN) and definition at the bottom (below MAIN)\n",
    "4. Please use a 'python style' form of indentation in your code (it is not nessercary in C but it is good practice as code is more readable)"
   ]
  },
  {
   "cell_type": "markdown",
   "metadata": {},
   "source": [
    "#### Enter your UP number below"
   ]
  },
  {
   "cell_type": "markdown",
   "metadata": {},
   "source": [
    "UP2121518"
   ]
  },
  {
   "cell_type": "markdown",
   "metadata": {},
   "source": [
    "## 1. Data types - 25 %\n",
    "\n",
    "\n",
    "This part you can do immediately, these are mearly types of data structrues and you have used similar things in python - google things, use wiki, use chatGTP etc. to learn (but be careful as they are not always right...)\n",
    "Type your answers in markdown below. \n",
    "\n",
    "Write 5 differences between an array and a linked list in C and explain them (note the numebr of marks - 1 short sentence per thing is not going to get you 15%!). 15%\n",
    "\n",
    "\n",
    "Write a short description (>= 2 sentences per item) of a:\n",
    "\n",
    "* Stack - 2%\n",
    "* Queue - 2%\n",
    "* Binary Tree - 2%\n",
    "* Heap - 2%\n",
    "* Graph - 2%"
   ]
  },
  {
   "cell_type": "code",
   "execution_count": null,
   "metadata": {},
   "outputs": [],
   "source": []
  },
  {
   "cell_type": "code",
   "execution_count": null,
   "metadata": {},
   "outputs": [],
   "source": []
  },
  {
   "cell_type": "markdown",
   "metadata": {},
   "source": [
    "## 2. C Arrays and lists - 30 %\n",
    "\n",
    "From Tuesday 2nd November you can do all of this question and the 'arrays' part you can do from consolidation week.\n",
    "\n",
    "Write three functions using the split declaration, definition best-practice notation which find the 1) mean, 2) median and 3) mode of an array **and** of a linked list with integer or float datatypes. Your code may return this value to be printed in main or simply print it in the function.\n",
    "\n",
    "Confirm that you code works on the array/linked list of floats:\n",
    "\n",
    "    myArray = [0.1,0.9,0.5,0.7,0.9,0.1,0.3,0.7,0.7,0.9,0.5,0.3,0.5,0.7,0.1]\n",
    "\n",
    "Do not import or use any library functions other than:\n",
    "\n",
    "    #include <stdio.h>\n",
    "    \n",
    "and for the malloc() function for linked lists you may use:\n",
    "    \n",
    "    #include <stdlib.h>\n",
    "\n",
    "Explain in the comments of the function each step that the code should take and/or some pseudocode which explains what you want your code to do. E.g.\n",
    "\n",
    "    // 1. Read in the array\n",
    "    // 2. For loop through the array\n",
    "    // 3. Do ...\n",
    "\n",
    "or\n",
    "\n",
    "    // make array\n",
    "    // for each element in array\n",
    "    //    do ...\n",
    "\n",
    "Would this work well for an extremely large array? Do you think your code could be optimised? No need to optimise it but you must discuss the potential steps you could take to optimise your code. Write your answer in the comments of the program. \n",
    "\n",
    "#### IMPORTANT NOTE\n",
    "* For each function 5% is for the code and 5% is for the commenting and discussion. NOTE!!! A correct code without any comments and disscussion is only worth 5% and therefore a maximum of 15% on this question!  To achieve full marks you must address all the questions being asked. \n",
    "* Good codes are general - test your code widely, it must work for all possible arrays/lists!!!"
   ]
  },
  {
   "cell_type": "code",
   "execution_count": null,
   "metadata": {},
   "outputs": [],
   "source": []
  },
  {
   "cell_type": "code",
   "execution_count": null,
   "metadata": {},
   "outputs": [],
   "source": []
  },
  {
   "cell_type": "markdown",
   "metadata": {},
   "source": [
    "## 3. Data stuctures - 45 %\n",
    "\n",
    "From Thursday 4th November you can do this question in multiple ways - .\n",
    "\n",
    "#### NOTE\n",
    "* Half of the marks again are provided for commenting - make sure you comment well. AND if your code doesn't work you could still potentially recive good marks for your pseudocode and comments!!! Demonstrate you know what you want your code to do and don't loose easy mark!\n",
    "\n",
    "\n",
    "You may use any data structure that you like for this question (arrays, linked lists, stacks, queues, trees) - provided the answers are correct there is no penalty (or bonus) for using any specific data structure - it is up to you.\n",
    "\n",
    "You may additionally use:\n",
    "\n",
    "    #include<stdio.h>\n",
    "    #include<time.h> \n",
    "    #include<stdlib.h>\n",
    "\n",
    "a) Use method 1 described below for generating and storing 50,000 random numbers. Time how long your code takes. - 15%\n",
    "\n",
    "b) Use method 2 described below for generating and storing 50,000 random numbers. Time how long your code takes. - 10%\n",
    "\n",
    "c) Print out the most common ten numbers and the least common 10 numbers from each method and count how many occurances of the number is in your data sequences. - 10%\n",
    "\n",
    "d) Which method is best at generating random numbers and why - give as many reasons as you can think of. Hint: To test your code try changing the seed values in method 1 and see what happens - are there any particularly bad seed values. - 5%\n",
    "\n",
    "e) Write a function which will search the output of your two methods (with method 1 initial seed of 8960) for the value zero. How many times does it occur? Discuss how efficient your code is. - 5%\n",
    "\n",
    "* Hint - always test code on small arrays < 10 elements to make sure your understand them first.\n",
    "\n",
    "#### Method 1 - this is called the middle square method and was the first was pseudo random numbers were generated.\n",
    "\n",
    "* Start from a 4-digit seed value of 8960\n",
    "* Take this seed and square it\n",
    "* Remove the middle values of that number that are the same length as the original\n",
    "    - do this by removing the last 2 digits and then keeping the next 4 or less digits\n",
    "    - e.g. 8960*8960 = 80281600\n",
    "    - we remove the last two values so we get 802816\n",
    "    - now we keep only the next four values so that our next seed number is 2816\n",
    "    - if the reming values were only three digits then we only keep the three \n",
    "* This becomes your new seed number\n",
    "\n",
    "#### Method 2 - built-in rand()\n",
    "\n",
    "* Use the rand() built-in function that we met in class notebook 7 to generate 4 digit random numbers."
   ]
  },
  {
   "cell_type": "code",
   "execution_count": null,
   "metadata": {},
   "outputs": [],
   "source": []
  }
 ],
 "metadata": {
  "kernelspec": {
   "display_name": "C",
   "language": "c",
   "name": "c"
  },
  "language_info": {
   "file_extension": ".c",
   "mimetype": "text/plain",
   "name": "c"
  }
 },
 "nbformat": 4,
 "nbformat_minor": 4
}
